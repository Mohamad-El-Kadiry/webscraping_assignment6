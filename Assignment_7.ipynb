{
  "cells": [
    {
      "cell_type": "markdown",
      "id": "d77d382b",
      "metadata": {
        "id": "d77d382b"
      },
      "source": [
        "# Lab Assignment 7 – NLP on Trending Product Titles\n",
        "Spring 2025 – COSC 482"
      ]
    },
    {
      "cell_type": "code",
      "execution_count": 4,
      "id": "9ed6f820",
      "metadata": {
        "colab": {
          "base_uri": "https://localhost:8080/"
        },
        "id": "9ed6f820",
        "outputId": "051be4da-9864-4fc8-a212-f6eb8fa200d9"
      },
      "outputs": [
        {
          "output_type": "stream",
          "name": "stderr",
          "text": [
            "[nltk_data] Downloading package punkt to /root/nltk_data...\n",
            "[nltk_data]   Package punkt is already up-to-date!\n",
            "[nltk_data] Downloading package stopwords to /root/nltk_data...\n",
            "[nltk_data]   Package stopwords is already up-to-date!\n",
            "[nltk_data] Downloading package wordnet to /root/nltk_data...\n",
            "[nltk_data]   Package wordnet is already up-to-date!\n",
            "[nltk_data] Downloading package omw-1.4 to /root/nltk_data...\n",
            "[nltk_data]   Package omw-1.4 is already up-to-date!\n",
            "[nltk_data] Downloading package punkt_tab to /root/nltk_data...\n",
            "[nltk_data]   Unzipping tokenizers/punkt_tab.zip.\n"
          ]
        }
      ],
      "source": [
        "import pandas as pd\n",
        "import numpy as np\n",
        "import matplotlib.pyplot as plt\n",
        "import seaborn as sns\n",
        "\n",
        "import re\n",
        "import string\n",
        "import nltk\n",
        "import spacy\n",
        "\n",
        "from nltk.corpus import stopwords\n",
        "from nltk.stem import WordNetLemmatizer\n",
        "from sklearn.feature_extraction.text import TfidfVectorizer\n",
        "from sklearn.cluster import KMeans\n",
        "from sklearn.linear_model import LogisticRegression\n",
        "from sklearn.model_selection import train_test_split\n",
        "from sklearn.metrics import classification_report, accuracy_score, f1_score\n",
        "from sklearn.preprocessing import StandardScaler\n",
        "\n",
        "from sklearn.neighbors import NearestNeighbors\n",
        "from sklearn.metrics.pairwise import cosine_similarity\n",
        "\n",
        "nltk.download('punkt')\n",
        "nltk.download('stopwords')\n",
        "nltk.download('wordnet')\n",
        "nltk.download('omw-1.4')\n",
        "nltk.download('punkt_tab')\n",
        "nlp = spacy.load(\"en_core_web_sm\")"
      ]
    },
    {
      "cell_type": "code",
      "execution_count": 2,
      "id": "0ea6a741",
      "metadata": {
        "id": "0ea6a741"
      },
      "outputs": [],
      "source": [
        "# Load Dataset\n",
        "df = pd.read_csv(\"cleaned_ebay_deals.csv\")"
      ]
    },
    {
      "cell_type": "code",
      "execution_count": 5,
      "id": "147c54c8",
      "metadata": {
        "colab": {
          "base_uri": "https://localhost:8080/"
        },
        "id": "147c54c8",
        "outputId": "42c84f60-23d9-412d-ddc2-9c972a4ba40b"
      },
      "outputs": [
        {
          "output_type": "stream",
          "name": "stdout",
          "text": [
            "Task 1: Preprocessing Sample\n",
            "\n",
            "\n",
            "Original: Klipsch R-120SWi 12\" High-Performance Wireless Subwoofer\n",
            "Tokens: ['klipsch', 'r120swi', '12', 'highperformance', 'wireless', 'subwoofer']\n",
            "Lemmatized: ['klipsch', 'r120swi', '12', 'highperformance', 'wireless', 'subwoofer']\n",
            "\n",
            "Original: Apple iPhone 14 Pro Max 128GB Network Unlocked Very Good Condition\n",
            "Tokens: ['apple', 'iphone', '14', 'pro', 'max', '128gb', 'network', 'unlocked', 'good', 'condition']\n",
            "Lemmatized: ['apple', 'iphone', '14', 'pro', 'max', '128gb', 'network', 'unlocked', 'good', 'condition']\n",
            "\n",
            "Original: Apple iPhone 14 Pro Max 256GB Unlocked Very Good Condition\n",
            "Tokens: ['apple', 'iphone', '14', 'pro', 'max', '256gb', 'unlocked', 'good', 'condition']\n",
            "Lemmatized: ['apple', 'iphone', '14', 'pro', 'max', '256gb', 'unlocked', 'good', 'condition']\n",
            "\n",
            "Original: Apple iPhone 14 Pro A2650 128GB Network Unlocked Very Good Condition\n",
            "Tokens: ['apple', 'iphone', '14', 'pro', 'a2650', '128gb', 'network', 'unlocked', 'good', 'condition']\n",
            "Lemmatized: ['apple', 'iphone', '14', 'pro', 'a2650', '128gb', 'network', 'unlocked', 'good', 'condition']\n",
            "\n",
            "Original: Apple iPhone 14 128GB Network Unlocked Very Good Condition\n",
            "Tokens: ['apple', 'iphone', '14', '128gb', 'network', 'unlocked', 'good', 'condition']\n",
            "Lemmatized: ['apple', 'iphone', '14', '128gb', 'network', 'unlocked', 'good', 'condition']\n"
          ]
        }
      ],
      "source": [
        "# Task 1: Text Preprocessing\n",
        "stop_words = set(stopwords.words('english'))\n",
        "lemmatizer = WordNetLemmatizer()\n",
        "\n",
        "def preprocess(text):\n",
        "    text = text.lower()\n",
        "    text = re.sub(f\"[{re.escape(string.punctuation)}]\", \"\", text)\n",
        "    tokens = nltk.word_tokenize(text)\n",
        "    tokens = [word for word in tokens if word not in stop_words]\n",
        "    lemmas = [lemmatizer.lemmatize(token) for token in tokens]\n",
        "    return tokens, lemmas\n",
        "\n",
        "# Print for 5 samples\n",
        "print(\"Task 1: Preprocessing Sample\\n\")\n",
        "for i in range(5):\n",
        "    original = df.iloc[i]['title']\n",
        "    tokens, lemmas = preprocess(original)\n",
        "    print(f\"\\nOriginal: {original}\")\n",
        "    print(f\"Tokens: {tokens}\")\n",
        "    print(f\"Lemmatized: {lemmas}\")"
      ]
    },
    {
      "cell_type": "code",
      "execution_count": 6,
      "id": "09910bc9",
      "metadata": {
        "colab": {
          "base_uri": "https://localhost:8080/"
        },
        "id": "09910bc9",
        "outputId": "d3a6f8e9-3cf1-4405-c96e-a346aca6814c"
      },
      "outputs": [
        {
          "output_type": "stream",
          "name": "stdout",
          "text": [
            "\n",
            "Task 2: Top 10 Keywords\n",
            "unlocked: 388.7619\n",
            "apple: 369.5410\n",
            "iphone: 369.3617\n",
            "128gb: 301.7780\n",
            "pro: 299.0688\n",
            "condition: 294.5750\n",
            "good: 277.6170\n",
            "excellent: 262.7766\n",
            "14: 261.7762\n",
            "256gb: 212.7358\n"
          ]
        }
      ],
      "source": [
        "# Task 2: Keyword Extraction (TF-IDF)\n",
        "tfidf = TfidfVectorizer(stop_words='english', max_features=1000)\n",
        "X_tfidf = tfidf.fit_transform(df['title'])\n",
        "\n",
        "# Get top 10 keywords\n",
        "sum_words = X_tfidf.sum(axis=0)\n",
        "words_freq = [(word, sum_words[0, idx]) for word, idx in tfidf.vocabulary_.items()]\n",
        "words_freq = sorted(words_freq, key=lambda x: x[1], reverse=True)\n",
        "print(\"\\nTask 2: Top 10 Keywords\")\n",
        "for word, freq in words_freq[:10]:\n",
        "    print(f\"{word}: {freq:.4f}\")"
      ]
    },
    {
      "cell_type": "code",
      "execution_count": 7,
      "id": "64415e83",
      "metadata": {
        "colab": {
          "base_uri": "https://localhost:8080/"
        },
        "id": "64415e83",
        "outputId": "42c5d62d-17f3-4835-9404-196950993156"
      },
      "outputs": [
        {
          "output_type": "stream",
          "name": "stdout",
          "text": [
            "\n",
            "Task 3: POS Tagging & Adjective–Noun Pairs\n",
            "\n",
            "Title 1: Klipsch R-120SWi 12\" High-Performance Wireless Subwoofer\n",
            "Klipsch: PROPN\n",
            "R-120SWi: VERB\n",
            "12: NUM\n",
            "\": PUNCT\n",
            "High: ADJ\n",
            "-: PUNCT\n",
            "Performance: NOUN\n",
            "Wireless: PROPN\n",
            "Subwoofer: NOUN\n",
            "\n",
            "Title 2: Apple iPhone 14 Pro Max 128GB Network Unlocked Very Good Condition\n",
            "Apple: PROPN\n",
            "iPhone: PROPN\n",
            "14: NUM\n",
            "Pro: PROPN\n",
            "Max: PROPN\n",
            "128: NUM\n",
            "GB: PROPN\n",
            "Network: PROPN\n",
            "Unlocked: VERB\n",
            "Very: ADV\n",
            "Good: PROPN\n",
            "Condition: NOUN\n",
            "\n",
            "Title 3: Apple iPhone 14 Pro Max 256GB Unlocked Very Good Condition\n",
            "Apple: PROPN\n",
            "iPhone: PROPN\n",
            "14: NUM\n",
            "Pro: PROPN\n",
            "Max: PROPN\n",
            "256: NUM\n",
            "GB: PROPN\n",
            "Unlocked: VERB\n",
            "Very: ADV\n",
            "Good: ADJ\n",
            "Condition: NOUN\n",
            "\n",
            "Title 4: Apple iPhone 14 Pro A2650 128GB Network Unlocked Very Good Condition\n",
            "Apple: PROPN\n",
            "iPhone: PROPN\n",
            "14: NUM\n",
            "Pro: PROPN\n",
            "A2650: PROPN\n",
            "128: NUM\n",
            "GB: PROPN\n",
            "Network: PROPN\n",
            "Unlocked: VERB\n",
            "Very: ADV\n",
            "Good: PROPN\n",
            "Condition: NOUN\n",
            "\n",
            "Title 5: Apple iPhone 14 128GB Network Unlocked Very Good Condition\n",
            "Apple: PROPN\n",
            "iPhone: PROPN\n",
            "14: NUM\n",
            "128: NUM\n",
            "GB: PROPN\n",
            "Network: PROPN\n",
            "Unlocked: VERB\n",
            "Very: ADV\n",
            "Good: PROPN\n",
            "Condition: NOUN\n",
            "\n",
            "Title 6: Apple iPhone 14 Pro A2650 256GB Unlocked Very Good Condition\n",
            "Apple: PROPN\n",
            "iPhone: PROPN\n",
            "14: NUM\n",
            "Pro: PROPN\n",
            "A2650: PROPN\n",
            "256: NUM\n",
            "GB: PROPN\n",
            "Unlocked: VERB\n",
            "Very: ADV\n",
            "Good: ADJ\n",
            "Condition: NOUN\n",
            "\n",
            "Title 7: Apple iPhone 15 Pro Max A2849 256GB Unlocked Very Good\n",
            "Apple: PROPN\n",
            "iPhone: PROPN\n",
            "15: NUM\n",
            "Pro: PROPN\n",
            "Max: PROPN\n",
            "A2849: PUNCT\n",
            "256: NUM\n",
            "GB: PROPN\n",
            "Unlocked: VERB\n",
            "Very: ADV\n",
            "Good: ADJ\n",
            "\n",
            "Title 8: Apple iPhone 16 Plus 128GB Unlocked Excellent Condition\n",
            "Apple: PROPN\n",
            "iPhone: PROPN\n",
            "16: NUM\n",
            "Plus: CCONJ\n",
            "128: NUM\n",
            "GB: PROPN\n",
            "Unlocked: PROPN\n",
            "Excellent: PROPN\n",
            "Condition: NOUN\n",
            "\n",
            "Title 9: Apple iPad 8 (8th Gen) - (2020 Model) - 32GB - Wi-Fi - A2270 - Good\n",
            "Apple: PROPN\n",
            "iPad: PROPN\n",
            "8: NUM\n",
            "(: PUNCT\n",
            "8th: ADJ\n",
            "Gen: PROPN\n",
            "): PUNCT\n",
            "-: PUNCT\n",
            "(: PUNCT\n",
            "2020: NUM\n",
            "Model: PROPN\n",
            "): PUNCT\n",
            "-: PUNCT\n",
            "32: NUM\n",
            "GB: PROPN\n",
            "-: PUNCT\n",
            "Wi: PROPN\n",
            "-: PUNCT\n",
            "Fi: PROPN\n",
            "-: PUNCT\n",
            "A2270: NOUN\n",
            "-: PUNCT\n",
            "Good: ADJ\n",
            "\n",
            "Title 10: Apple iPhone 13 A2482 128GB Network Unlocked Very Good Condition\n",
            "Apple: PROPN\n",
            "iPhone: PROPN\n",
            "13: NUM\n",
            "A2482: PROPN\n",
            "128: NUM\n",
            "GB: PROPN\n",
            "Network: PROPN\n",
            "Unlocked: VERB\n",
            "Very: ADV\n",
            "Good: PROPN\n",
            "Condition: NOUN\n",
            "\n",
            "Most Common Adjective–Noun Pairs:\n",
            "good condition: 312\n",
            "v520kl a006: 33\n",
            "more combo: 21\n",
            "natural silver: 17\n",
            "27mp camera: 16\n",
            "oled tv: 12\n",
            "wireless speaker: 5\n",
            "g8v0u excellent: 3\n",
            "unlocked good: 2\n",
            "5000mah qi2: 2\n"
          ]
        }
      ],
      "source": [
        "# Task 3: POS Tagging & Phrase Analysis\n",
        "print(\"\\nTask 3: POS Tagging & Adjective–Noun Pairs\")\n",
        "adj_noun_pairs = []\n",
        "\n",
        "for i in range(10):\n",
        "    doc = nlp(df.iloc[i]['title'])\n",
        "    print(f\"\\nTitle {i+1}: {df.iloc[i]['title']}\")\n",
        "    for token in doc:\n",
        "        print(f\"{token.text}: {token.pos_}\")\n",
        "\n",
        "# All titles for common adjective–noun pairs\n",
        "for title in df['title']:\n",
        "    doc = nlp(title)\n",
        "    for i in range(len(doc) - 1):\n",
        "        if doc[i].pos_ == \"ADJ\" and doc[i+1].pos_ == \"NOUN\":\n",
        "            adj_noun_pairs.append((doc[i].text.lower(), doc[i+1].text.lower()))\n",
        "\n",
        "# Show most common pairs\n",
        "from collections import Counter\n",
        "pair_counts = Counter(adj_noun_pairs)\n",
        "print(\"\\nMost Common Adjective–Noun Pairs:\")\n",
        "for pair, count in pair_counts.most_common(10):\n",
        "    print(f\"{pair[0]} {pair[1]}: {count}\")"
      ]
    },
    {
      "cell_type": "code",
      "execution_count": 8,
      "id": "cf935042",
      "metadata": {
        "colab": {
          "base_uri": "https://localhost:8080/"
        },
        "id": "cf935042",
        "outputId": "c0eb1b9d-6a44-4dbd-b6b0-9ff16000539c"
      },
      "outputs": [
        {
          "output_type": "stream",
          "name": "stdout",
          "text": [
            "\n",
            "Task 4: Top 5 Words per Cluster:\n",
            "\n",
            "Cluster 0:\n",
            "smart\n",
            "4k\n",
            "sony\n",
            "black\n",
            "wireless\n",
            "\n",
            "Cluster 1:\n",
            "galaxy\n",
            "samsung\n",
            "16gb\n",
            "ssd\n",
            "laptop\n",
            "\n",
            "Cluster 2:\n",
            "series\n",
            "lg\n",
            "inch\n",
            "oled\n",
            "tv\n",
            "\n",
            "Cluster 3:\n",
            "iphone\n",
            "unlocked\n",
            "apple\n",
            "condition\n",
            "128gb\n"
          ]
        }
      ],
      "source": [
        "# Task 4: Product Clustering\n",
        "kmeans = KMeans(n_clusters=4, random_state=42)\n",
        "df['cluster'] = kmeans.fit_predict(X_tfidf)\n",
        "\n",
        "print(\"\\nTask 4: Top 5 Words per Cluster:\")\n",
        "terms = tfidf.get_feature_names_out()\n",
        "order_centroids = kmeans.cluster_centers_.argsort()[:, ::-1]\n",
        "for i in range(4):\n",
        "    print(f\"\\nCluster {i}:\")\n",
        "    for ind in order_centroids[i, :5]:\n",
        "        print(f\"{terms[ind]}\")"
      ]
    },
    {
      "cell_type": "code",
      "execution_count": 9,
      "id": "a55ac4f1",
      "metadata": {
        "colab": {
          "base_uri": "https://localhost:8080/"
        },
        "id": "a55ac4f1",
        "outputId": "f558bef3-6a53-44c8-878c-f5fdde479f58"
      },
      "outputs": [
        {
          "output_type": "stream",
          "name": "stdout",
          "text": [
            "\n",
            "Task 5: Classification Report\n",
            "              precision    recall  f1-score   support\n",
            "\n",
            "        High       0.95      0.99      0.97       411\n",
            "         Low       0.98      0.87      0.93        71\n",
            "      Medium       0.97      0.94      0.95       313\n",
            "\n",
            "    accuracy                           0.96       795\n",
            "   macro avg       0.97      0.94      0.95       795\n",
            "weighted avg       0.96      0.96      0.96       795\n",
            "\n"
          ]
        }
      ],
      "source": [
        "# Task 5: Discount Classification\n",
        "def categorize_discount(d):\n",
        "    if d >= 50:\n",
        "        return \"High\"\n",
        "    elif 20 <= d < 50:\n",
        "        return \"Medium\"\n",
        "    else:\n",
        "        return \"Low\"\n",
        "\n",
        "df['discount_category'] = df['discount_percentage'].apply(categorize_discount)\n",
        "\n",
        "X = X_tfidf\n",
        "y = df['discount_category']\n",
        "\n",
        "X_train, X_test, y_train, y_test = train_test_split(X, y, random_state=42, test_size=0.2)\n",
        "clf = LogisticRegression(max_iter=1000)\n",
        "clf.fit(X_train, y_train)\n",
        "y_pred = clf.predict(X_test)\n",
        "\n",
        "print(\"\\nTask 5: Classification Report\")\n",
        "print(classification_report(y_test, y_pred))"
      ]
    },
    {
      "cell_type": "code",
      "execution_count": 10,
      "id": "4d29c4f7",
      "metadata": {
        "colab": {
          "base_uri": "https://localhost:8080/"
        },
        "id": "4d29c4f7",
        "outputId": "d4ae9b1f-c437-415f-e822-e3eef8f3bb5c"
      },
      "outputs": [
        {
          "output_type": "stream",
          "name": "stdout",
          "text": [
            "\n",
            "Task 6: Fusion Model Results\n",
            "Accuracy: 0.9987421383647799\n",
            "F1 Score: 0.9987849331713244\n"
          ]
        }
      ],
      "source": [
        "# Task 6: Fusion Modeling\n",
        "df['price'] = pd.to_numeric(df['price'], errors='coerce')\n",
        "df['discount_flag'] = df['discount_percentage'] >= 50\n",
        "\n",
        "num_features = df[['price', 'discount_percentage']].fillna(0)\n",
        "scaler = StandardScaler()\n",
        "scaled_num = scaler.fit_transform(num_features)\n",
        "\n",
        "from scipy.sparse import hstack\n",
        "X_fusion = hstack([X_tfidf, scaled_num])\n",
        "y_fusion = df['discount_flag']\n",
        "\n",
        "X_train_f, X_test_f, y_train_f, y_test_f = train_test_split(X_fusion, y_fusion, test_size=0.2, random_state=42)\n",
        "fusion_model = LogisticRegression(max_iter=1000)\n",
        "fusion_model.fit(X_train_f, y_train_f)\n",
        "y_pred_f = fusion_model.predict(X_test_f)\n",
        "\n",
        "print(\"\\nTask 6: Fusion Model Results\")\n",
        "print(\"Accuracy:\", accuracy_score(y_test_f, y_pred_f))\n",
        "print(\"F1 Score:\", f1_score(y_test_f, y_pred_f))"
      ]
    },
    {
      "cell_type": "code",
      "execution_count": 11,
      "id": "1abf5c69",
      "metadata": {
        "colab": {
          "base_uri": "https://localhost:8080/"
        },
        "id": "1abf5c69",
        "outputId": "68835de7-e70c-41c2-a869-bc778dcd0172"
      },
      "outputs": [
        {
          "output_type": "stream",
          "name": "stdout",
          "text": [
            "\n",
            "Top 3 Results for Query: 'iphone 14'\n",
            "- Apple iPhone 14 128GB Unlocked - Excellent (Similarity: 0.6169)\n",
            "- Apple iPhone 14 128GB Unlocked - Excellent (Similarity: 0.6169)\n",
            "- Apple iPhone 14 128GB Unlocked - Excellent (Similarity: 0.6169)\n"
          ]
        }
      ],
      "source": [
        "# Bonus: Product Search Tool\n",
        "def search_products(query, top_n=3):\n",
        "    query_vec = tfidf.transform([query])\n",
        "    similarities = cosine_similarity(query_vec, X_tfidf).flatten()\n",
        "    top_indices = similarities.argsort()[-top_n:][::-1]\n",
        "    print(f\"\\nTop {top_n} Results for Query: '{query}'\")\n",
        "    for i in top_indices:\n",
        "        print(f\"- {df.iloc[i]['title']} (Similarity: {similarities[i]:.4f})\")\n",
        "\n",
        "# Example search\n",
        "search_products(\"iphone 14\")"
      ]
    }
  ],
  "metadata": {
    "kernelspec": {
      "display_name": "Python 3",
      "name": "python3"
    },
    "colab": {
      "provenance": []
    }
  },
  "nbformat": 4,
  "nbformat_minor": 5
}